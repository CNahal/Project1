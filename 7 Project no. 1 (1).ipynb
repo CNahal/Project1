{
 "cells": [
  {
   "cell_type": "code",
   "execution_count": 18,
   "id": "4326fdb3",
   "metadata": {},
   "outputs": [],
   "source": [
    "import random\n",
    "Elements=[[\"S\",\"Blue\"],[\"T\",\"Blue\"],[\"C\",\"Blue\"],[\"S\",\"Red\"],[\"T\",\"Red\"],[\"C\",\"Red\"],[\"S\",\"Green\"],[\"T\",\"Green\"],[\"C\",\"Green\"]]\n",
    "S=[\"R\",\"G\",\"B\"]\n",
    "C=[\"R\",\"G\",\"B\"]\n",
    "T=[\"R\",\"G\",\"B\"]"
   ]
  },
  {
   "cell_type": "code",
   "execution_count": 19,
   "id": "94c67774",
   "metadata": {},
   "outputs": [
    {
     "name": "stdout",
     "output_type": "stream",
     "text": [
      "['C', 'Green']\n"
     ]
    }
   ],
   "source": [
    "print(robochoice)"
   ]
  },
  {
   "cell_type": "code",
   "execution_count": 20,
   "id": "3b0d98ad",
   "metadata": {},
   "outputs": [
    {
     "name": "stdout",
     "output_type": "stream",
     "text": [
      "start or don't start start\n"
     ]
    }
   ],
   "source": [
    "Command=input(\"start or don't start: \")\n",
    "\n",
    "for i in range(0,len(Elements)):\n",
    "    step=0\n",
    "    step=+10\n",
    "    robochoice=random.choice(Elements)\n",
    "    Elements.remove(robochoice)\n",
    "    step+=10\n",
    "    \n",
    "    if Command==(\"start\"):\n",
    "        \n",
    "        if robochoice[0]==\"S\":\n",
    "            step+=1\n",
    "            if robochoice[1]==\"Red\":\n",
    "                S[0]=robochoice\n",
    "            elif robochoice[1]==\"Green\":\n",
    "                S[1]=robochoice\n",
    "            elif robochoice[1]==\"Blue\":\n",
    "                S[2]=robochoice\n",
    "            step+=19\n",
    "                \n",
    "        elif robochoice[0]==\"C\":\n",
    "            step+=5\n",
    "            if robochoice[1]==\"Red\":\n",
    "                C[0]=robochoice\n",
    "            elif robochoice[1]==\"Green\":\n",
    "                C[1]=robochoice\n",
    "            elif robochoice[1]==\"Blue\":\n",
    "                C[2]=robochoice\n",
    "            step+=15\n",
    "        \n",
    "        elif robochoice[0]==\"T\":\n",
    "            step+=9\n",
    "            if robochoice[1]==\"Red\":\n",
    "                T[0]=robochoice\n",
    "            elif robochoice[1]==\"Green\":\n",
    "                T[1]=robochoice\n",
    "            elif robochoice[1]==\"Blue\":\n",
    "                T[2]=robochoice\n",
    "            step+=11"
   ]
  },
  {
   "cell_type": "code",
   "execution_count": 21,
   "id": "ecee399f",
   "metadata": {},
   "outputs": [
    {
     "name": "stdout",
     "output_type": "stream",
     "text": [
      "[['S', 'Red'], ['S', 'Green'], ['S', 'Blue']]\n",
      "[['T', 'Red'], ['T', 'Green'], ['T', 'Blue']]\n",
      "[['C', 'Red'], ['C', 'Green'], ['C', 'Blue']]\n",
      "[]\n"
     ]
    }
   ],
   "source": [
    "print(S)\n",
    "print(T)\n",
    "print(C)\n",
    "print(Elements)"
   ]
  },
  {
   "cell_type": "code",
   "execution_count": null,
   "id": "a5859e4b",
   "metadata": {},
   "outputs": [],
   "source": []
  },
  {
   "cell_type": "code",
   "execution_count": null,
   "id": "1b3e1d62",
   "metadata": {},
   "outputs": [],
   "source": []
  }
 ],
 "metadata": {
  "kernelspec": {
   "display_name": "Python 3",
   "language": "python",
   "name": "python3"
  },
  "language_info": {
   "codemirror_mode": {
    "name": "ipython",
    "version": 3
   },
   "file_extension": ".py",
   "mimetype": "text/x-python",
   "name": "python",
   "nbconvert_exporter": "python",
   "pygments_lexer": "ipython3",
   "version": "3.8.8"
  }
 },
 "nbformat": 4,
 "nbformat_minor": 5
}
