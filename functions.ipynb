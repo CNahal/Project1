{
 "cells": [
  {
   "cell_type": "markdown",
   "id": "3b1d559c",
   "metadata": {},
   "source": [
    "<h1 style=\"font-size:4rem;color:purple;\">functions</h1>"
   ]
  },
  {
   "cell_type": "markdown",
   "id": "f00fa481",
   "metadata": {},
   "source": [
    "***"
   ]
  },
  {
   "cell_type": "markdown",
   "id": "c92f04d6",
   "metadata": {},
   "source": [
    "<h1 style=\"font-size:2rem;color:navy;\">1. creating a functions</h1>"
   ]
  },
  {
   "cell_type": "markdown",
   "id": "0d01b35c",
   "metadata": {},
   "source": [
    "def ---> define"
   ]
  },
  {
   "cell_type": "code",
   "execution_count": null,
   "id": "84b6b909",
   "metadata": {},
   "outputs": [],
   "source": [
    "def my_function():\n",
    "    print(\"welcome to python class\")"
   ]
  },
  {
   "cell_type": "code",
   "execution_count": null,
   "id": "00e73007",
   "metadata": {},
   "outputs": [],
   "source": [
    "#استدعاء التابع\n",
    "my_function()"
   ]
  },
  {
   "cell_type": "code",
   "execution_count": null,
   "id": "386008fc",
   "metadata": {},
   "outputs": [],
   "source": [
    "def user_response():\n",
    "    import random\n",
    "    list1=[\"good job\",\"nice!\",\"it's your lucky day\",\"wow!\",\"amazing\",\"yeah!\"]\n",
    "    x=random.choice(list1)\n",
    "    print(x)"
   ]
  },
  {
   "cell_type": "code",
   "execution_count": null,
   "id": "d5cd9095",
   "metadata": {},
   "outputs": [],
   "source": [
    "user_response()"
   ]
  },
  {
   "cell_type": "markdown",
   "id": "a9b189f9",
   "metadata": {},
   "source": [
    " ***"
   ]
  },
  {
   "cell_type": "markdown",
   "id": "dc0abed2",
   "metadata": {},
   "source": [
    "***"
   ]
  },
  {
   "cell_type": "markdown",
   "id": "35b0accc",
   "metadata": {},
   "source": [
    "<h1 style=\"font-size:2rem;color:navy;\">2. functions & return</h1>"
   ]
  },
  {
   "cell_type": "markdown",
   "id": "9cc2f82c",
   "metadata": {},
   "source": [
    "return is used when the function is giving back a value.\n",
    "\n",
    "it is always better to avoid using print inside of a function. "
   ]
  },
  {
   "cell_type": "code",
   "execution_count": null,
   "id": "23307790",
   "metadata": {},
   "outputs": [],
   "source": [
    "def user_response():\n",
    "    import random\n",
    "    list1=[\"good job\",\"nice!\",\"it's your lucky day\",\"wow!\"]\n",
    "    x=random.choice(list1)\n",
    "    return x"
   ]
  },
  {
   "cell_type": "code",
   "execution_count": null,
   "id": "8f83e281",
   "metadata": {},
   "outputs": [],
   "source": [
    "print(user_response())"
   ]
  },
  {
   "cell_type": "code",
   "execution_count": null,
   "id": "5d74e633",
   "metadata": {},
   "outputs": [],
   "source": [
    "def my_function():\n",
    "    return \"hi\""
   ]
  },
  {
   "cell_type": "code",
   "execution_count": null,
   "id": "f26468dd",
   "metadata": {},
   "outputs": [],
   "source": [
    "print(my_function())"
   ]
  },
  {
   "cell_type": "markdown",
   "id": "7c23abe6",
   "metadata": {},
   "source": [
    "***"
   ]
  },
  {
   "cell_type": "markdown",
   "id": "65224210",
   "metadata": {},
   "source": [
    "<h1 style=\"font-size:2rem;color:navy;\">3. functions & parameters</h1>"
   ]
  },
  {
   "cell_type": "markdown",
   "id": "38c635d1",
   "metadata": {},
   "source": [
    "name is a parameter\n",
    "\n",
    "alaa is an argument\n",
    "\n",
    "print is the task"
   ]
  },
  {
   "cell_type": "markdown",
   "id": "4bca9f22",
   "metadata": {},
   "source": [
    "***"
   ]
  },
  {
   "cell_type": "markdown",
   "id": "0a843c27",
   "metadata": {},
   "source": [
    "one parameter:"
   ]
  },
  {
   "cell_type": "code",
   "execution_count": null,
   "id": "894485d0",
   "metadata": {},
   "outputs": [],
   "source": [
    "def welcome(name):\n",
    "    return \"Hi %s welcome to python class\"%name"
   ]
  },
  {
   "cell_type": "code",
   "execution_count": null,
   "id": "c7705f8a",
   "metadata": {},
   "outputs": [],
   "source": [
    "print(welcome(\"alaa\"))"
   ]
  },
  {
   "cell_type": "code",
   "execution_count": null,
   "id": "9130b18d",
   "metadata": {},
   "outputs": [],
   "source": [
    "print(welcome())"
   ]
  },
  {
   "cell_type": "code",
   "execution_count": null,
   "id": "5e8ae715",
   "metadata": {},
   "outputs": [],
   "source": [
    "print(welcome(\"alaa\",\"jafar\"))"
   ]
  },
  {
   "cell_type": "code",
   "execution_count": null,
   "id": "88cca21c",
   "metadata": {},
   "outputs": [],
   "source": [
    "#تابع يحسب محيط دائرة\n",
    "def perimeter(half_diameter):\n",
    "    from math import pi\n",
    "    v = 2*pi*half_diameter\n",
    "    return v"
   ]
  },
  {
   "cell_type": "code",
   "execution_count": null,
   "id": "aa979d6f",
   "metadata": {},
   "outputs": [],
   "source": [
    "#تابع يحسب مساحة دائرة\n",
    "def area(half_diameter):\n",
    "    from math import pi\n",
    "    c = pi*(half_diameter**2)\n",
    "    return c"
   ]
  },
  {
   "cell_type": "code",
   "execution_count": null,
   "id": "96a76202",
   "metadata": {},
   "outputs": [],
   "source": [
    "print(perimeter(5))\n",
    "print(area(5))"
   ]
  },
  {
   "cell_type": "code",
   "execution_count": null,
   "id": "26cd71cd",
   "metadata": {},
   "outputs": [],
   "source": [
    "#تابع يحسب عاملي رقم\n",
    "def factorial(x):\n",
    "    fact = 1\n",
    "    for i in range(1,x+1):\n",
    "        fact = fact * i\n",
    "    return fact"
   ]
  },
  {
   "cell_type": "code",
   "execution_count": null,
   "id": "d7736deb",
   "metadata": {},
   "outputs": [],
   "source": [
    "factorial(5)"
   ]
  },
  {
   "cell_type": "markdown",
   "id": "a951dd5f",
   "metadata": {},
   "source": [
    "two parameters:"
   ]
  },
  {
   "cell_type": "code",
   "execution_count": 1,
   "id": "d4c643ab",
   "metadata": {},
   "outputs": [],
   "source": [
    "#تابع يحسب محيط مستطيل\n",
    "def rectangular_perimeter(hight,width):\n",
    "    v = 2*(hight+width)\n",
    "    return v"
   ]
  },
  {
   "cell_type": "code",
   "execution_count": 2,
   "id": "5ecc4caf",
   "metadata": {},
   "outputs": [
    {
     "data": {
      "text/plain": [
       "20"
      ]
     },
     "execution_count": 2,
     "metadata": {},
     "output_type": "execute_result"
    }
   ],
   "source": [
    "rectangular_perimeter(3,7)"
   ]
  },
  {
   "cell_type": "code",
   "execution_count": 3,
   "id": "18dbfe6b",
   "metadata": {},
   "outputs": [],
   "source": [
    "#تابع يحسب مساحة مستطيل\n",
    "def rectangular_area(hight,width):\n",
    "    c = hight*width\n",
    "    return c"
   ]
  },
  {
   "cell_type": "code",
   "execution_count": 4,
   "id": "14748655",
   "metadata": {},
   "outputs": [
    {
     "data": {
      "text/plain": [
       "21"
      ]
     },
     "execution_count": 4,
     "metadata": {},
     "output_type": "execute_result"
    }
   ],
   "source": [
    "rectangular_area(3,7)"
   ]
  },
  {
   "cell_type": "markdown",
   "id": "2244b865",
   "metadata": {},
   "source": [
    "three parameters:"
   ]
  },
  {
   "cell_type": "code",
   "execution_count": null,
   "id": "954f98bb",
   "metadata": {},
   "outputs": [],
   "source": [
    "#تابع آلة حاسبة\n",
    "def calculator(a,b,op):\n",
    "    if op == \"+\" :\n",
    "        print (a + b)\n",
    "    elif op==\"-\":\n",
    "        print (a - b)\n",
    "    elif op == \"*\" :\n",
    "        print (a * b)\n",
    "    elif op== \"/\":\n",
    "        if b==0:\n",
    "            print(\"can't divide by zero\")\n",
    "        else:\n",
    "            print (a / b)\n",
    "    else :\n",
    "        print (\"sorry can't do that\")"
   ]
  },
  {
   "cell_type": "code",
   "execution_count": null,
   "id": "dade1896",
   "metadata": {},
   "outputs": [],
   "source": [
    "x = float(input(\"what is the first number? \"))\n",
    "y = float(input (\"what is the second number? \"))\n",
    "z = input(\"tell me the operation \").strip()\n",
    "calculator(x,y,z)"
   ]
  },
  {
   "cell_type": "code",
   "execution_count": null,
   "id": "3eb3de65",
   "metadata": {},
   "outputs": [],
   "source": [
    "calculator(90,7,\"+\")"
   ]
  },
  {
   "cell_type": "markdown",
   "id": "1ba81024",
   "metadata": {},
   "source": [
    "***"
   ]
  },
  {
   "cell_type": "markdown",
   "id": "8e2ac69c",
   "metadata": {},
   "source": [
    "<h1 style=\"font-size:2rem;color:navy;\">4. defult parameter</h1>"
   ]
  },
  {
   "cell_type": "code",
   "execution_count": null,
   "id": "25de3f53",
   "metadata": {},
   "outputs": [],
   "source": [
    "def welcome(name=\"new student\"):\n",
    "    return \"Hi %s welcome to python class\"%name"
   ]
  },
  {
   "cell_type": "code",
   "execution_count": null,
   "id": "66b30f70",
   "metadata": {},
   "outputs": [],
   "source": [
    "print(welcome(\"Ali\"))"
   ]
  },
  {
   "cell_type": "code",
   "execution_count": null,
   "id": "47958fe6",
   "metadata": {},
   "outputs": [],
   "source": [
    "print(welcome())"
   ]
  },
  {
   "cell_type": "code",
   "execution_count": null,
   "id": "72e48892",
   "metadata": {},
   "outputs": [],
   "source": [
    "def calculator1(a , b, op=\"+\"):\n",
    "    if op == \"+\" :\n",
    "        print (a + b)\n",
    "    elif op==\"-\":\n",
    "        print (a - b)\n",
    "    elif op == \"*\" :\n",
    "        print (a * b)\n",
    "    elif op== \"/\":\n",
    "        if b==0:\n",
    "            print(\"can't divide by zero\")\n",
    "        else:\n",
    "            print (a / b)\n",
    "    else :\n",
    "        print (\"sorry can't do that\")"
   ]
  },
  {
   "cell_type": "code",
   "execution_count": null,
   "id": "86480c89",
   "metadata": {},
   "outputs": [],
   "source": [
    "calculator1(5,9,\"*\")"
   ]
  },
  {
   "cell_type": "code",
   "execution_count": null,
   "id": "e57e7a66",
   "metadata": {},
   "outputs": [],
   "source": [
    "calculator1(5,9)"
   ]
  },
  {
   "cell_type": "markdown",
   "id": "a9360e81",
   "metadata": {},
   "source": [
    "***"
   ]
  },
  {
   "cell_type": "markdown",
   "id": "8b6b3264",
   "metadata": {},
   "source": [
    "<h1 style=\"font-size:2rem;color:navy;\">5. unpacking</h1>"
   ]
  },
  {
   "cell_type": "code",
   "execution_count": 7,
   "id": "7748b963",
   "metadata": {},
   "outputs": [],
   "source": [
    "def mean1(*x):\n",
    "    print(type(x))"
   ]
  },
  {
   "cell_type": "code",
   "execution_count": 8,
   "id": "c547df27",
   "metadata": {},
   "outputs": [
    {
     "name": "stdout",
     "output_type": "stream",
     "text": [
      "<class 'tuple'>\n"
     ]
    }
   ],
   "source": [
    "mean1(6,9,8,7)"
   ]
  },
  {
   "cell_type": "code",
   "execution_count": 10,
   "id": "1c054ae3",
   "metadata": {},
   "outputs": [],
   "source": [
    "#تابع حساب متوسط\n",
    "def mean(*x):\n",
    "    sum=0\n",
    "    for i in x:\n",
    "        sum = sum + i\n",
    "    avr=sum/len(x)\n",
    "    return avr"
   ]
  },
  {
   "cell_type": "code",
   "execution_count": 11,
   "id": "d15183fb",
   "metadata": {},
   "outputs": [
    {
     "data": {
      "text/plain": [
       "71.5"
      ]
     },
     "execution_count": 11,
     "metadata": {},
     "output_type": "execute_result"
    }
   ],
   "source": [
    "mean(60,83)"
   ]
  },
  {
   "cell_type": "code",
   "execution_count": 12,
   "id": "bbb1707f",
   "metadata": {},
   "outputs": [
    {
     "data": {
      "text/plain": [
       "69.5"
      ]
     },
     "execution_count": 12,
     "metadata": {},
     "output_type": "execute_result"
    }
   ],
   "source": [
    "mean(60,83,62,73)"
   ]
  },
  {
   "cell_type": "code",
   "execution_count": 13,
   "id": "b7ba6652",
   "metadata": {},
   "outputs": [
    {
     "data": {
      "text/plain": [
       "75.83333333333333"
      ]
     },
     "execution_count": 13,
     "metadata": {},
     "output_type": "execute_result"
    }
   ],
   "source": [
    "mean(64,73,91,85,77,65)"
   ]
  },
  {
   "cell_type": "markdown",
   "id": "5576b4a6",
   "metadata": {},
   "source": [
    "***"
   ]
  },
  {
   "cell_type": "markdown",
   "id": "91cdecfa",
   "metadata": {},
   "source": [
    "<h1 style=\"font-size:2rem;color:navy;\">6. scope</h1>"
   ]
  },
  {
   "cell_type": "code",
   "execution_count": null,
   "id": "6d14d110",
   "metadata": {},
   "outputs": [],
   "source": [
    "x=1\n",
    "\n",
    "def fun():\n",
    "    x=5\n",
    "    print(x)\n",
    "    \n",
    "def fun1():\n",
    "    x=90\n",
    "    print(x)"
   ]
  },
  {
   "cell_type": "markdown",
   "id": "29d1bc9c",
   "metadata": {},
   "source": [
    "local scope"
   ]
  },
  {
   "cell_type": "code",
   "execution_count": null,
   "id": "5f260728",
   "metadata": {},
   "outputs": [],
   "source": [
    "fun()\n",
    "fun1()"
   ]
  },
  {
   "cell_type": "markdown",
   "id": "e2a0a098",
   "metadata": {},
   "source": [
    "global scope"
   ]
  },
  {
   "cell_type": "code",
   "execution_count": null,
   "id": "279ef582",
   "metadata": {},
   "outputs": [],
   "source": [
    "print(x)"
   ]
  },
  {
   "cell_type": "markdown",
   "id": "f01da942",
   "metadata": {},
   "source": [
    "***"
   ]
  },
  {
   "cell_type": "code",
   "execution_count": null,
   "id": "15d7355c",
   "metadata": {},
   "outputs": [],
   "source": [
    "x=100\n",
    "\n",
    "def fun2():\n",
    "    global x\n",
    "    x=200\n",
    "    print(x)\n",
    "    \n",
    "def fun3():\n",
    "    print(x)"
   ]
  },
  {
   "cell_type": "code",
   "execution_count": null,
   "id": "0a4d9e2b",
   "metadata": {},
   "outputs": [],
   "source": [
    "fun2()\n",
    "fun3()"
   ]
  },
  {
   "cell_type": "code",
   "execution_count": null,
   "id": "824936d0",
   "metadata": {},
   "outputs": [],
   "source": [
    "print(x)"
   ]
  },
  {
   "cell_type": "markdown",
   "id": "97a73291",
   "metadata": {},
   "source": [
    "***"
   ]
  },
  {
   "cell_type": "markdown",
   "id": "1c9792b0",
   "metadata": {},
   "source": [
    "<h1 style=\"font-size:2rem;color:navy;\">7. recursion</h1>"
   ]
  },
  {
   "cell_type": "code",
   "execution_count": null,
   "id": "cf651dd6",
   "metadata": {},
   "outputs": [],
   "source": [
    "def marki():\n",
    "    mark = int(input(\"enter your degree: \"))\n",
    "    if mark >= 60 and mark <= 100:\n",
    "        print (\"pass\")\n",
    "    elif mark >= 0 and mark < 60:\n",
    "        print(\"fail\")\n",
    "    else:\n",
    "        print(\"invaled entry\")\n",
    "        marki() #التابع يستدعي نفسه من جديد"
   ]
  },
  {
   "cell_type": "code",
   "execution_count": null,
   "id": "a5f4bbe1",
   "metadata": {},
   "outputs": [],
   "source": [
    "marki()"
   ]
  },
  {
   "cell_type": "code",
   "execution_count": null,
   "id": "115d89aa",
   "metadata": {},
   "outputs": [],
   "source": [
    "def length(x):\n",
    "    if x:\n",
    "        return 1 + length(x[1:])\n",
    "    else:\n",
    "        return 0"
   ]
  },
  {
   "cell_type": "code",
   "execution_count": null,
   "id": "82b55fd6",
   "metadata": {},
   "outputs": [],
   "source": [
    "length(\"banana\")"
   ]
  }
 ],
 "metadata": {
  "kernelspec": {
   "display_name": "Python 3",
   "language": "python",
   "name": "python3"
  },
  "language_info": {
   "codemirror_mode": {
    "name": "ipython",
    "version": 3
   },
   "file_extension": ".py",
   "mimetype": "text/x-python",
   "name": "python",
   "nbconvert_exporter": "python",
   "pygments_lexer": "ipython3",
   "version": "3.8.8"
  },
  "varInspector": {
   "cols": {
    "lenName": 16,
    "lenType": 16,
    "lenVar": 40
   },
   "kernels_config": {
    "python": {
     "delete_cmd_postfix": "",
     "delete_cmd_prefix": "del ",
     "library": "var_list.py",
     "varRefreshCmd": "print(var_dic_list())"
    },
    "r": {
     "delete_cmd_postfix": ") ",
     "delete_cmd_prefix": "rm(",
     "library": "var_list.r",
     "varRefreshCmd": "cat(var_dic_list()) "
    }
   },
   "types_to_exclude": [
    "module",
    "function",
    "builtin_function_or_method",
    "instance",
    "_Feature"
   ],
   "window_display": false
  }
 },
 "nbformat": 4,
 "nbformat_minor": 5
}
